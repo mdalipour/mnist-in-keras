{
  "nbformat": 4,
  "nbformat_minor": 0,
  "metadata": {
    "colab": {
      "private_outputs": true,
      "provenance": [],
      "authorship_tag": "ABX9TyMMZhVYmvnj3Cx5hwHmKMnH",
      "include_colab_link": true
    },
    "kernelspec": {
      "name": "python3",
      "display_name": "Python 3"
    },
    "language_info": {
      "name": "python"
    }
  },
  "cells": [
    {
      "cell_type": "markdown",
      "metadata": {
        "id": "view-in-github",
        "colab_type": "text"
      },
      "source": [
        "<a href=\"https://colab.research.google.com/github/mdalipour/mnist-in-keras/blob/main/hamrah.academy.ipynb\" target=\"_parent\"><img src=\"https://colab.research.google.com/assets/colab-badge.svg\" alt=\"Open In Colab\"/></a>"
      ]
    },
    {
      "cell_type": "code",
      "execution_count": null,
      "metadata": {
        "id": "x03Ov_GpdgKG"
      },
      "outputs": [],
      "source": [
        "from google.colab import drive\n",
        "drive.mount('/content/drive')"
      ]
    },
    {
      "cell_type": "code",
      "source": [
        "import pandas as pd\n",
        "import networkx as nx\n",
        "import matplotlib.pyplot as plt"
      ],
      "metadata": {
        "id": "WF6KPlYzeA-w"
      },
      "execution_count": null,
      "outputs": []
    },
    {
      "cell_type": "code",
      "source": [
        "users = pd.read_csv('/content/drive/MyDrive/AkademiLandData/Users.csv')\n",
        "friendships = pd.read_csv('/content/drive/MyDrive/AkademiLandData/Friendships.csv')\n",
        "posts = pd.read_csv('/content/drive/MyDrive/AkademiLandData/Posts.csv')"
      ],
      "metadata": {
        "id": "b1JZKUI6gCUV"
      },
      "execution_count": null,
      "outputs": []
    },
    {
      "cell_type": "code",
      "source": [
        "G = nx.from_pandas_edgelist(friendships, 'user1_id', 'user2_id')"
      ],
      "metadata": {
        "id": "hxp7t8qLhTmr"
      },
      "execution_count": null,
      "outputs": []
    },
    {
      "cell_type": "code",
      "source": [
        "degree_centrality = nx.degree_centrality(G)\n",
        "most_popular_user = max(degree_centrality, key=degree_centrality.get)\n",
        "print(\"محبوب‌ترین کاربر:\", most_popular_user)"
      ],
      "metadata": {
        "id": "FeI_W32di8wE"
      },
      "execution_count": null,
      "outputs": []
    },
    {
      "cell_type": "code",
      "source": [
        "user_degrees = dict(G.degree())\n",
        "print(\"تعداد دوستان هر کاربر:\", user_degrees)"
      ],
      "metadata": {
        "id": "rXonEPyYjHea"
      },
      "execution_count": null,
      "outputs": []
    },
    {
      "cell_type": "code",
      "source": [
        "posts['total_interactions'] = posts['likes'] + posts['comments']\n",
        "most_popular_post = posts.loc[posts['total_interactions'].idxmax()]\n",
        "print(\"محبوب‌ترین پست:\", most_popular_post)"
      ],
      "metadata": {
        "id": "6vFA-NDCjUCD"
      },
      "execution_count": null,
      "outputs": []
    },
    {
      "cell_type": "code",
      "source": [
        "import pandas as pd\n",
        "\n",
        "# خواندن داده‌ها از فایل CSV\n",
        "df = pd.read_csv('/content/drive/MyDrive/AkademiLandData/Posts.csv')\n",
        "\n",
        "# محاسبه میانگین لایک‌ها برای هر کاربر\n",
        "user_popularity = df.groupby('user_id')['likes'].mean()\n",
        "print(user_popularity)"
      ],
      "metadata": {
        "id": "4O0D4Nnfljd7"
      },
      "execution_count": null,
      "outputs": []
    },
    {
      "cell_type": "code",
      "source": [
        "# محاسبه مجموع تعاملات (لایک، کامنت) برای هر کاربر\n",
        "user_engagement = df.groupby('user_id')[['likes', 'comments']].sum().sum(axis=1)\n",
        "print(user_engagement)"
      ],
      "metadata": {
        "id": "8klMu-T9vSxz"
      },
      "execution_count": null,
      "outputs": []
    },
    {
      "cell_type": "code",
      "source": [
        "# یافتن 5 نفر اول محبوب\n",
        "top_5_popular_users = user_popularity.sort_values(ascending=False).head(5)\n",
        "print(top_5_popular_users)\n",
        "\n",
        "# یافتن 5 نفر اول پرتعامل\n",
        "top_5_engaged_users = user_engagement.sort_values(ascending=False).head(5)\n",
        "print(top_5_engaged_users)"
      ],
      "metadata": {
        "id": "6M7Ev6Gbx5tW"
      },
      "execution_count": null,
      "outputs": []
    },
    {
      "cell_type": "code",
      "source": [
        "import pandas as pd\n",
        "\n",
        "# خواندن فایل‌های CSV\n",
        "\n",
        "\n",
        "users_df = pd.read_csv('/content/drive/MyDrive/AkademiLandData/Users.csv')\n",
        "friendships_df = pd.read_csv('/content/drive/MyDrive/AkademiLandData/Friendships.csv')\n",
        "posts_df = pd.read_csv('/content/drive/MyDrive/AkademiLandData/Posts.csv')\n",
        "\n",
        "# تعریف وزن‌ها\n",
        "post_weight = 0.3\n",
        "like_weight = 0.5\n",
        "comment_weight = 0.2\n",
        "\n",
        "# محاسبه شاخص اینفلوئنسری برای هر کاربر\n",
        "def calculate_influencer_score(user_id):\n",
        "    user_posts = posts_df[posts_df['user_id'] == user_id]\n",
        "    total_posts = len(user_posts)\n",
        "    total_likes = user_posts['likes'].sum()\n",
        "    total_comments = user_posts['comments'].sum()\n",
        "\n",
        "    influencer_score = (total_posts * post_weight) + (total_likes * like_weight) + (total_comments * comment_weight)\n",
        "    return influencer_score\n",
        "\n",
        "# مثال: محاسبه شاخص اینفلوئنسری برای کاربر با شناسه 1\n",
        "user_1_score = calculate_influencer_score(1)\n",
        "\n",
        "# برای محاسبه شاخص همه کاربران می‌توانیم از یک حلقه استفاده کنیم\n",
        "\n",
        "# ایجاد یک لیست برای ذخیره امتیازات همه کاربران\n",
        "all_scores = []\n",
        "\n",
        "# محاسبه امتیاز همه کاربران و ذخیره در لیست\n",
        "for user_id in users_df['user_id']:\n",
        "    score = calculate_influencer_score(user_id)\n",
        "    all_scores.append(score)\n",
        "\n",
        "# پیدا کردن بیشترین امتیاز\n",
        "max_score = max(all_scores)\n",
        "\n",
        "# چاپ بیشترین امتیاز\n",
        "print(\"بیشترین امتیاز کسب شده:\", max_score)"
      ],
      "metadata": {
        "id": "QNK9i5om-WgL"
      },
      "execution_count": null,
      "outputs": []
    },
    {
      "cell_type": "code",
      "source": [
        "import pandas as pd\n",
        "\n",
        "\n",
        "\n",
        "# ایجاد یک ستون جدید در DataFrame کاربران برای ذخیره شاخص اینفلوئنسر\n",
        "users_df['influencer_score'] = users_df['user_id'].apply(calculate_influencer_score)\n",
        "\n",
        "# پیدا کردن کاربری با بیشترین امتیاز\n",
        "most_influential_user = users_df.loc[users_df['influencer_score'].idxmax()]\n",
        "\n",
        "# چاپ اطلاعات کاربر با بیشترین امتیاز\n",
        "print(\"کاربر با بیشترین امتیاز:\")\n",
        "print(most_influential_user)"
      ],
      "metadata": {
        "id": "a-lioi9LCcnQ"
      },
      "execution_count": null,
      "outputs": []
    }
  ]
}